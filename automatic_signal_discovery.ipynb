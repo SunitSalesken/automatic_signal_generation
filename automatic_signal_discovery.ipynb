{
 "cells": [
  {
   "cell_type": "code",
   "execution_count": 17,
   "metadata": {},
   "outputs": [
    {
     "name": "stdout",
     "output_type": "stream",
     "text": [
      "Requirement already satisfied: psycopg2-binary in /Users/salesken/Documents/Salesken/DeepLearning/venv3/lib/python3.7/site-packages (2.8.6)\n",
      "Requirement already satisfied: ipynb in /Users/salesken/Documents/Salesken/DeepLearning/venv3/lib/python3.7/site-packages (0.5.1)\n",
      "Collecting pyyaml\n",
      "  Downloading PyYAML-5.4.1-cp37-cp37m-macosx_10_9_x86_64.whl (249 kB)\n",
      "\u001b[K     |████████████████████████████████| 249 kB 561 kB/s eta 0:00:01\n",
      "\u001b[?25hInstalling collected packages: pyyaml\n",
      "Successfully installed pyyaml-5.4.1\n"
     ]
    }
   ],
   "source": [
    "import sys\n",
    "!{sys.executable} -m pip install psycopg2-binary\n",
    "!{sys.executable} -m pip install ipynb\n",
    "!{sys.executable} -m pip install pyyaml\n",
    "import psycopg2"
   ]
  },
  {
   "cell_type": "code",
   "execution_count": 24,
   "metadata": {},
   "outputs": [],
   "source": [
    "import os\n",
    "from threading import Thread\n",
    "from flask import Flask, request, jsonify\n",
    "from datetime import datetime\n",
    "import json\n",
    "import yaml\n",
    "import numpy as np\n",
    "import pandas.io.sql as sqlio\n",
    "import scipy\n",
    "import numpy.linalg as LA\n",
    "from sklearn import preprocessing, decomposition\n",
    "from sklearn.decomposition import PCA\n",
    "from sklearn.cluster import AgglomerativeClustering\n",
    "from scipy.spatial.distance import cosine\n",
    "from sklearn.mixture import GaussianMixture\n",
    "from sklearn import metrics\n",
    "from sklearn.cluster import DBSCAN\n",
    "from sklearn.preprocessing import StandardScaler\n",
    "from sklearn.model_selection import train_test_split\n",
    "import pickle\n",
    "import nltk\n",
    "from sklearn.covariance import EmpiricalCovariance, MinCovDet\n",
    "from collections import OrderedDict, defaultdict\n",
    "from datetime import datetime\n",
    "from sklearn.metrics.pairwise import cosine_similarity\n",
    "\n",
    "from ipynb.fs.full.training_and_clustering import *\n",
    "config = yaml.load(open(\"config.yml\"), Loader=yaml.FullLoader)"
   ]
  },
  {
   "cell_type": "code",
   "execution_count": null,
   "metadata": {},
   "outputs": [],
   "source": []
  },
  {
   "cell_type": "code",
   "execution_count": 25,
   "metadata": {},
   "outputs": [],
   "source": [
    "app = Flask(__name__)\n",
    "config = yaml.safe_load(open('config.yml', 'r'))\n",
    "os.environ[\"CUDA_VISIBLE_DEVICES\"] = \"0\"\n",
    "os.environ[\"TORCH_HOME\"] = config['base_model_dir']"
   ]
  },
  {
   "cell_type": "code",
   "execution_count": 21,
   "metadata": {},
   "outputs": [],
   "source": [
    "@app.route(\"/extract_intents\", methods=[\"POST\", \"GET\"])\n",
    "def extract_intents():\n",
    "    org_id = request.args['org_id']\n",
    "    threshold = request.args['threshold']\n",
    "\n",
    "    from datasets import load_dataset\n",
    "    train_dataset = load_dataset(\"swda\", split='train')\n",
    "    test_dataset = load_dataset(\"swda\", split='test')\n",
    "\n",
    "    dimensions = set()\n",
    "    train_utterance_tags, test_utterance_tags = {}, {}\n",
    "    for i in range(len(train_dataset)):\n",
    "        if i > 60000:\n",
    "            break\n",
    "        utterance = train_dataset[i]['text']\n",
    "        tag = train_dataset[i]['topic_description']\n",
    "        dimensions.add(tag)\n",
    "        train_utterance_tags[utterance] = tag\n",
    "\n",
    "    for i in range(len(test_dataset)):\n",
    "        utterance = test_dataset[i]['text']\n",
    "        tag = test_dataset[i]['topic_description']\n",
    "        dimensions.add(tag)\n",
    "        test_utterance_tags[utterance] = tag\n",
    "\n",
    "    print(\"Testing...\")\n",
    "\n",
    "    model = org_model_map[org_id]\n",
    "    clusters, ids2prems, ids2embeds, ids2projection_embeds = embed_and_cluster(train_utterance_tags, test_utterance_tags,\n",
    "                                                        model, config)\n",
    "\n",
    "    with open('./data_files/misc/ids2prems.pickle', 'rb') as f:\n",
    "        ids2prems = pickle.load(f)\n",
    "\n",
    "    with open('./data_files/misc/ids2embeds.pickle', 'rb') as f:\n",
    "        ids2embeds = pickle.load(f)\n",
    "\n",
    "    with open('./data_files/misc/ids2projection_embeds.pickle', 'rb') as f:\n",
    "        ids2projection_embeds = pickle.load(f)\n",
    "\n",
    "    with open('./data_files/misc/clusters.pickle', 'rb') as f:\n",
    "        clusters = pickle.load(f)\n",
    "\n",
    "    tars = load_tars_classifier_miscellaneous(config)\n",
    "    tagged_clusters_output = tag_dimension_to_clusters_miscellaneous(tars, clusters, ids2prems, ids2embeds,\n",
    "                                                                     ids2projection_embeds, float(threshold))\n",
    "\n",
    "    return jsonify(tagged_clusters_output)"
   ]
  },
  {
   "cell_type": "code",
   "execution_count": 22,
   "metadata": {},
   "outputs": [
    {
     "name": "stdout",
     "output_type": "stream",
     "text": [
      " * Serving Flask app \"__main__\" (lazy loading)\n",
      " * Environment: production\n",
      "\u001b[31m   WARNING: This is a development server. Do not use it in a production deployment.\u001b[0m\n",
      "\u001b[2m   Use a production WSGI server instead.\u001b[0m\n",
      " * Debug mode: off\n"
     ]
    },
    {
     "name": "stderr",
     "output_type": "stream",
     "text": [
      " * Running on http://0.0.0.0:8000/ (Press CTRL+C to quit)\n"
     ]
    }
   ],
   "source": [
    "if __name__ == '__main__':\n",
    "    app.run(host=\"0.0.0.0\", port=\"8000\", debug=False)"
   ]
  },
  {
   "cell_type": "code",
   "execution_count": null,
   "metadata": {},
   "outputs": [],
   "source": []
  }
 ],
 "metadata": {
  "kernelspec": {
   "display_name": "local-venv",
   "language": "python",
   "name": "local-venv"
  },
  "language_info": {
   "codemirror_mode": {
    "name": "ipython",
    "version": 3
   },
   "file_extension": ".py",
   "mimetype": "text/x-python",
   "name": "python",
   "nbconvert_exporter": "python",
   "pygments_lexer": "ipython3",
   "version": "3.7.0"
  }
 },
 "nbformat": 4,
 "nbformat_minor": 4
}
